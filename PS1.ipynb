{
 "cells": [
  {
   "cell_type": "markdown",
   "metadata": {},
   "source": [
    "# NumPDE course, Skoltech, Term 3, 2016"
   ]
  },
  {
   "cell_type": "markdown",
   "metadata": {},
   "source": [
    "## Problem Set 1"
   ]
  },
  {
   "cell_type": "markdown",
   "metadata": {},
   "source": [
    "### Modeling a Cantilever Beam"
   ]
  },
  {
   "cell_type": "markdown",
   "metadata": {},
   "source": [
    "Consider a beam fixed at one end (called a [cantilever](http://en.wikipedia.org/wiki/Cantilever) beam) as shown here:\n",
    "<img src='fig/beam_basic.png'>"
   ]
  },
  {
   "cell_type": "markdown",
   "metadata": {},
   "source": [
    "<a id=\"eq\"></a>\n",
    "Its deflection from the equilibrium position is described by the deflection $u = u(x)$ which satisfies the boundary-value problem for the [Euler-Bernoulli equation](http://en.wikipedia.org/wiki/Euler%E2%80%93Bernoulli_beam_theory)\n",
    "$$ (EIu'')'' = 0$$\n",
    "$$u(0)=0 ~~~ u'(0)=0$$\n",
    "$$u''(L)=0 ~~~ (EIu'')'(L)=P$$\n",
    "\n",
    "where $P$ is the force applied to the beam’s end, $E$ is the (constant) elastic modulus (a material’s property) and I is the second moment of the area of the cross-section. If the cross-section is a rectangle with height $~H = H(x)$ and the width is $W$ then  $~I = I(x) = WH(x)^3/12$ (see more details in Wikipedia under the link above)."
   ]
  },
  {
   "cell_type": "markdown",
   "metadata": {},
   "source": [
    "### Proposition 1.\n",
    "\n",
    "Assume that $~I = I(x)$ is constant.\n",
    "\n",
    "* **(a)** $$\\frac{u(x − 2h) − 4u(x − h) + 6u(x) − 4u(x + h) + u(x + 2h)}{h^4}$$  approximates  $u''''(x)$  with the second order.\n",
    "\n",
    "* **(b)** Consider a grid $~h = L/N~$,  $~x_i = hi~$,  $~i = 0,..., N + 2~$. The last line of ([1](#eq)) can be approximated by \n",
    "$$u(L+h)−2 u(L)+u(L−h) = 0$$\n",
    "$$u(L+2h)−2 u(L+h)+2u(L−h)-u(L-2h) = 2 h^3 P/(EI).$$\n"
   ]
  },
  {
   "cell_type": "markdown",
   "metadata": {},
   "source": [
    "### Problem 1 (60pt)\n",
    "\n",
    "Assume that $~I = I(x)$ is constant and the mesh is chosen as in Proposition 1.\n",
    "\n",
    "* **(10pt)** Prove part (a) of Proposition 1.\n",
    "\n",
    "\n",
    "* **(10pt)** Formulate the finite difference problem approximating ([1](#eq)) with the second order.\n",
    "\n",
    "\n",
    "* **(10pt)** Write a code that implements this finite difference problem by constructing an $(N + 4) × (N + 4)$ matrix $A_h$ and the right-hand side vector $b_h$.\n",
    "\n",
    "\n",
    "* **(10pt)** Given parameters $E = 2.5\\, \\text{GPa}$, $H = 7\\,\\text{mm}$, $W = 3\\,\\text{mm}$, $L = 25\\, \\text{cm}$, $P = m \\cdot g, m = 200\\,\\text{g}, g = 9810\\,\\text{mm}/\\text{s}^2$, $h = L/20$ use your code to compute the solution $u_h = (u_h(−h), . . . , u_h(L + 2h))$. What is the computed deflection of the right end (denoted as $u_h(L)$)\n",
    "\n",
    "\n",
    "*  (Optional.) Upload the values $u(0), u(h), ... , u(L)$ to Canvas as a text file named *Your_Name.txt* with numbers separated by a newline. The first one who does it correctly will get a non-material bonus. (The details on uploading to Canvas may be changed later.)\n",
    "\n",
    "\n",
    "* **(10pt)** Find the solution $u$ in the analytic form. Compare $~u(L)~$ with $~u_h(L)~$ for $~h = L/25,L/50,L/100~$. As you decrease $~h~$ by a factor or 2, by what factor does the difference $~|u_h(L) − u(L)|~$ decrease?\n",
    "\n",
    "\n",
    "* **(10pt)** Compute $~\\sigma_{\\min}(A_h)~$ and $~\\sigma_{\\max}(A_h)~$ for $~h = L/25, L/50, L/100$. As you decrease $~h~$ by a factor or 2, by what factor does $\\operatorname{cond}(A_h)$ increase? Can you find, approximately, for what $h$ your code computes the value $~|u_h(L)−u(L)|~$ most accurately? Explain why your code’s answers are worse if $~h~$ is less than this value and if $~h~$ is larger than this value."
   ]
  },
  {
   "cell_type": "markdown",
   "metadata": {},
   "source": [
    "### Problem 2 (40pt)\n",
    "\n",
    "Let all parameters be the same as in Problem 1 except for $H(x) = (3 − 2x/L)(2 + \\cos(18πx/L)) · 6\\, \\text{mm}$.\n",
    "\n",
    "* **(10pt)** Formulate the corresponding finite difference problem.\n",
    "\n",
    "\n",
    "* **(10pt)** Write the corresponding code.\n",
    "\n",
    "\n",
    "* **(10pt)** Assuming that the beam fractures at a point where the modulus of the quantity $\\sigma(x) = u''(x)H(x)$ is largest, find the point where the beam should fracture. Give details on how you compute it (e.g., what value of h you used).\n",
    "\n",
    "\n",
    "* **(10pt)** Give an example of a smooth function $~H = H(x)$, satisfying $~3\\, \\text{mm} \\leq H \\leq 15\\, \\text{mm}~$ everywhere, such that the beam fractures at $~x \\approx L/3$.\n"
   ]
  },
  {
   "cell_type": "markdown",
   "metadata": {},
   "source": [
    "### Problem 3 (bonus problem)\n",
    "\n",
    "Suppose all parameters, except $H=H(x)$ are the same. You need to find $H(x)$ such that\n",
    "\n",
    "* The load that can be applied to the beam before it fractures is maximal subject to the constraints below:\n",
    "* The beam fractures when $\\sigma(x)$ exceeds $\\sigma_\\text{cr} = 0.05$\n",
    "* The total material is fixed: $\\int_{0}^L H(x) dx = 2000\\, \\text{mm}^2$\n",
    "* $3\\, \\text{mm} \\leq H \\leq 15\\, \\text{mm}$\n",
    "\n",
    "Take $n=100$. Upload 101 values $H(0), H(L/n), . . . , H(L)$ to Stellar as a text file named *PS1P3.txt* with numbers separated by a newline.\n"
   ]
  }
 ],
 "metadata": {
  "kernelspec": {
   "display_name": "Python 2",
   "language": "python",
   "name": "python2"
  },
  "language_info": {
   "codemirror_mode": {
    "name": "ipython",
    "version": 2
   },
   "file_extension": ".py",
   "mimetype": "text/x-python",
   "name": "python",
   "nbconvert_exporter": "python",
   "pygments_lexer": "ipython2",
   "version": "2.7.11"
  }
 },
 "nbformat": 4,
 "nbformat_minor": 0
}
